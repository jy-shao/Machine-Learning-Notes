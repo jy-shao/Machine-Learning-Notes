{
 "cells": [
  {
   "cell_type": "markdown",
   "metadata": {},
   "source": [
    "**Note-Machine Learning Algorithm- SVM 2017 03-W11**\n"
   ]
  },
  {
   "cell_type": "markdown",
   "metadata": {},
   "source": [
    "**SVM Model Derivation**\n",
    "\n",
    "**1 Define and generalize decision rule**\n",
    "\n",
    "$\\vec w\\cdot\\vec u + b \\ge  0$\n",
    "\n",
    "\n",
    "If projection of a vector $\\vec u$ along direction $\\vec w$ (the vector $\\perp$ to the street) plus a constant distance b (street width) is equal or larger than 0, then this point can be classified as +.\n",
    "\n",
    "$\\vec w\\cdot\\vec x_+ + b \\ge  1$\n",
    "\n",
    "$\\vec w\\cdot\\vec x_-+ b \\le  -1$\n",
    "\n",
    "Define y:\n",
    "$y_i = 1$ for $\\vec x_+$, and $y_i = -1$ for $\\vec x_-$\n",
    "\n",
    "The decision rule can be generalized as:\n",
    "$y_i(\\vec w \\cdot\\vec x_i + b) -1 \\ge 0$\n",
    "\n",
    "\n"
   ]
  },
  {
   "cell_type": "markdown",
   "metadata": {},
   "source": [
    "**2 Decision boundary**\n",
    "\n",
    "Based on the decision rule, we can see the decision boundary depends on $\\vec w$ and street width d. \n",
    "The street width d = $(\\vec x_+ - \\vec x_-)\\cdot \\dfrac{\\vec w}{\\parallel\\vec w\\parallel}$\n",
    "\n",
    "Because $\\vec x_+$ and $\\vec x_-$ that define the streets width are on the boundary, they satisfy: $y_i(\\vec w \\cdot\\vec x_i + b) -1 = 0$. This gives:\n",
    "\n",
    "$\\vec x_+\\cdot\\vec w  = 1 - b$\n",
    "\n",
    "$\\vec x_-\\cdot\\vec w  = -1 - b$\n",
    "\n",
    "With these two relations, d = $\\dfrac{2}{\\parallel\\vec w\\parallel}$\n",
    "The criteria for a decision boundary is to Max the street width, thus it is to Max $\\dfrac{2}{\\parallel\\vec w\\parallel}$.\n",
    "\n",
    "It is to: <font color = 'darkred'>Min $\\dfrac{{\\parallel\\vec w\\parallel ^2}}{2}$ subject to $y_i(\\vec w \\cdot\\vec x_i + b) -1 \\ge 0$ </font>"
   ]
  },
  {
   "cell_type": "markdown",
   "metadata": {},
   "source": [
    "**3 Lagrange multiplier method 拉格朗日乘数法**\n",
    "\n",
    "https://en.wikipedia.org/wiki/Lagrange_multiplier\n",
    "\n",
    "Lagrange multiplier method is used to find the local minimum.\n",
    "Apply Lagrange multiplier:\n",
    "\n",
    "L = $\\dfrac{{\\parallel\\vec w\\parallel ^2}}{2}$ + $\\sum\\alpha_i[ y_i (\\vec w\\cdot\\vec x_i + b) - 1]$\n",
    "\n",
    "$\\dfrac{\\partial L}{\\partial \\vec w} = 0$ gives <font color = 'darkred'> $\\vec w = \\sum\\alpha_i y_i \\vec x_i$ </font>\n",
    "\n",
    "$\\dfrac{\\partial L}{\\partial b} = 0$ gives <font color = 'darkred'>  $\\sum \\alpha_i y_i = 0$ </font>\n",
    "\n",
    "So once the value of $\\alpha_i$ is decided, $\\vec w$ and b can also be calculated.\n",
    "\n",
    "Substitute the above relations into L gives:\n",
    "\n",
    "$L = \\sum\\alpha_i - \\dfrac{1}{2} \\sum_{i}\\sum_{j}\\alpha_i\\alpha_j y_i y_j \\vec x_i\\cdot\\vec x_j$\n",
    "\n",
    "The max/min value only depends on the dot production of paired vectors $\\vec x_i\\cdot\\vec x_j$.\n",
    "\n",
    "\n",
    "\n",
    "Recall decision rule: $\\vec w\\cdot\\vec u + b \\ge  0$, with $\\vec w = \\sum\\alpha_i y_i \\vec x_i$, it is:\n",
    "\n",
    "$\\sum\\alpha_i y_i \\vec x_i \\cdot\\vec u + b \\ge 0$\n",
    "\n",
    "SMO (Sequential Minimal Optimization) is used to find $\\alpha$.\n"
   ]
  },
  {
   "cell_type": "markdown",
   "metadata": {},
   "source": [
    "**4 Kernal function**\n",
    "\n",
    "If a set of data is difficult to be separated linearly in original space, a kernal function $K(\\vec x_i,\\vec x_j) = \\phi(\\vec x_i)\\cdot\\phi(\\vec x_j)$ can be used to map the data into a space with higher diamension for linear classification.\n",
    "\n",
    "Commenly used kernal include:\n",
    "\n",
    "$(\\vec u\\cdot\\vec v + 1)^n$\n",
    "\n",
    "$e^-\\frac{\\parallel\\vec x - \\vec y\\parallel}{\\sigma}$"
   ]
  },
  {
   "cell_type": "markdown",
   "metadata": {},
   "source": [
    "**Reference**\n",
    "\n",
    "MIT SVM course\n",
    "https://www.youtube.com/watch?v=_PwhiWxHK8o\n",
    "\n",
    "\n",
    "SVM推导\n",
    "http://mp.weixin.qq.com/s/Uha_MJQtJiWRhBuVW32y9g\n",
    "\n",
    "\n",
    "简书\n",
    "http://www.jianshu.com/p/e22381cc2e38"
   ]
  }
 ],
 "metadata": {
  "kernelspec": {
   "display_name": "Python 2",
   "language": "python",
   "name": "python2"
  },
  "language_info": {
   "codemirror_mode": {
    "name": "ipython",
    "version": 2
   },
   "file_extension": ".py",
   "mimetype": "text/x-python",
   "name": "python",
   "nbconvert_exporter": "python",
   "pygments_lexer": "ipython2",
   "version": "2.7.13"
  }
 },
 "nbformat": 4,
 "nbformat_minor": 2
}
