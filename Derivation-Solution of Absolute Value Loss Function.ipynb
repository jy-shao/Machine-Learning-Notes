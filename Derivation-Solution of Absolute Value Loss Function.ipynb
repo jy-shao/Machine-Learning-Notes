{
 "cells": [
  {
   "cell_type": "markdown",
   "metadata": {},
   "source": [
    "### Prove：Optimal Solution for $arg\\min \\left| y-\\mu \\right|$ is  Median of $y$"
   ]
  },
  {
   "cell_type": "markdown",
   "metadata": {},
   "source": [
    "This note is to show that the solution of Eq.(1) is median of $y$"
   ]
  },
  {
   "cell_type": "markdown",
   "metadata": {},
   "source": [
    "$$\\mu^* = arg\\min \\left| y-\\mu \\right|\\tag{1}$$"
   ]
  },
  {
   "cell_type": "markdown",
   "metadata": {},
   "source": [
    "Because the minimum value of Eq. (1) is independent of sequence of $y$, we can re-arrange $y$ in ascending order. And in this case, there are must be a index $k$ let:<br> $$\\begin{split}y_{k}-\\mu<0 \\text{ ,from 0 to }k\\\\y_{k+1}-\\mu>0\\text{ ,from k+1 to N}\\end{split}$$where $N$ is the sample number. Eq.(1) can be written as:"
   ]
  },
  {
   "cell_type": "markdown",
   "metadata": {},
   "source": [
    "$$\\begin{split}J(\\mu) = \\sum _{i=1}^{N}\\left| y_{i}-\\mu \\right|=\\sum _{i=1}^{k}(\\mu - y_{i}) + \\sum _{i=k+1}^{N}( y_{i}-\\mu)\\\\\\dfrac {\\partial J\\left( \\mu \\right) } {\\partial \\mu }=\\sum _{i=1}^{k}1+\\sum _{i=k+1}^{N}(-1)\\end{split}$$ "
   ]
  },
  {
   "cell_type": "markdown",
   "metadata": {},
   "source": [
    "Set $\\dfrac {\\partial J\\left( \\mu \\right) } {\\partial \\mu }=0$ gives:$$\\begin{split} k+(N-k)=0\\\\k=\\dfrac{N}{2}  \\end{split}\\tag{2}$$ Thus the optimal solution for $arg\\min \\left| y-\\mu \\right|$ is the median of $y$."
   ]
  },
  {
   "cell_type": "code",
   "execution_count": null,
   "metadata": {
    "collapsed": true
   },
   "outputs": [],
   "source": []
  }
 ],
 "metadata": {
  "anaconda-cloud": {},
  "kernelspec": {
   "display_name": "Python [conda env:carnd-term1]",
   "language": "python",
   "name": "conda-env-carnd-term1-py"
  },
  "language_info": {
   "codemirror_mode": {
    "name": "ipython",
    "version": 3
   },
   "file_extension": ".py",
   "mimetype": "text/x-python",
   "name": "python",
   "nbconvert_exporter": "python",
   "pygments_lexer": "ipython3",
   "version": "3.5.2"
  }
 },
 "nbformat": 4,
 "nbformat_minor": 2
}
